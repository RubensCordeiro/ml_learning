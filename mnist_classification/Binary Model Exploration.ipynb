{
 "cells": [
  {
   "cell_type": "markdown",
   "metadata": {},
   "source": [
    "<h1> On this notebook, I will explore with some models to create a number 6 detector </h1>"
   ]
  },
  {
   "cell_type": "code",
   "execution_count": 1,
   "metadata": {},
   "outputs": [],
   "source": [
    "import pandas as pd\n",
    "import numpy as np\n",
    "import helper \n",
    "import sklearn"
   ]
  },
  {
   "cell_type": "code",
   "execution_count": 2,
   "metadata": {},
   "outputs": [
    {
     "data": {
      "text/plain": [
       "\"\\n#Multilabel datasets\\nmulti_train_set = helper.data_loader(folder_path, data_file, 'train', 'multinomial')\\nmulti_test_set = helper.data_loader(folder_path, data_file, 'test', 'multinomial')\\n\\n#Multioutput\\nmultil_train_set = helper.data_loader(folder_path, data_file, 'train', 'multilabel')\\nmultil_test_set = helper.data_loader(folder_path, data_file, 'test', 'multilabel')\\n\""
      ]
     },
     "execution_count": 2,
     "metadata": {},
     "output_type": "execute_result"
    }
   ],
   "source": [
    "#Data Loading\n",
    "folder_path = \"datasets\"\n",
    "data_file = \"train.csv\"\n",
    "\n",
    "#Binary datasets\n",
    "binary_train_set = helper.data_loader(folder_path, data_file, 'train', 'binary', 6)\n",
    "binary_test_set = helper.data_loader(folder_path, data_file, 'test', 'binary', 6)\n",
    "\n",
    "'''\n",
    "#Multilabel datasets\n",
    "multi_train_set = helper.data_loader(folder_path, data_file, 'train', 'multinomial')\n",
    "multi_test_set = helper.data_loader(folder_path, data_file, 'test', 'multinomial')\n",
    "\n",
    "#Multioutput\n",
    "multil_train_set = helper.data_loader(folder_path, data_file, 'train', 'multilabel')\n",
    "multil_test_set = helper.data_loader(folder_path, data_file, 'test', 'multilabel')\n",
    "'''"
   ]
  },
  {
   "cell_type": "code",
   "execution_count": 12,
   "metadata": {},
   "outputs": [],
   "source": [
    "x_train, y_train = binary_train_set"
   ]
  },
  {
   "cell_type": "code",
   "execution_count": null,
   "metadata": {},
   "outputs": [],
   "source": []
  }
 ],
 "metadata": {
  "kernelspec": {
   "display_name": "Python 3",
   "language": "python",
   "name": "python3"
  },
  "language_info": {
   "codemirror_mode": {
    "name": "ipython",
    "version": 3
   },
   "file_extension": ".py",
   "mimetype": "text/x-python",
   "name": "python",
   "nbconvert_exporter": "python",
   "pygments_lexer": "ipython3",
   "version": "3.8.5"
  }
 },
 "nbformat": 4,
 "nbformat_minor": 4
}

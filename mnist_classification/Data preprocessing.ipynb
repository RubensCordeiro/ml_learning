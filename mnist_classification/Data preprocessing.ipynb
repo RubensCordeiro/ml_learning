{
 "cells": [
  {
   "cell_type": "markdown",
   "metadata": {},
   "source": [
    "<h2>This module will contain the functions and classes to automatize data selection (the helper module will contain all helper functions and classes(</h2>"
   ]
  },
  {
   "cell_type": "code",
   "execution_count": 2,
   "metadata": {},
   "outputs": [],
   "source": [
    "#Data loader\n",
    "import pandas as pd\n",
    "import numpy as np\n",
    "from sklearn.base import BaseEstimator, TransformerMixin\n",
    "from sklearn.preprocessing import StandardScaler\n",
    "from sklearn.model_selection import train_test_split\n",
    "from sklearn.model_selection import StratifiedShuffleSplit\n",
    "from sklearn.pipeline import Pipeline"
   ]
  },
  {
   "cell_type": "code",
   "execution_count": 3,
   "metadata": {},
   "outputs": [],
   "source": [
    "def data_loader(folder_path, file_name, dataset_type,  classificator_type='binary', selected_number=6):\n",
    "    \"\"\"This function will help to select data based on the type of classification intented\"\"\"\n",
    "\n",
    "    file_path = folder_path + \"/\" + file_name\n",
    "    complete_data = pd.read_csv(file_path)\n",
    "    \n",
    "    splitter = StratifiedShuffleSplit(n_splits = 1, test_size = 0.25, random_state = 42)\n",
    "    \n",
    "    split_indices = splitter.split(complete_data, complete_data['label'])\n",
    "\n",
    "    for train, test in split_indices:\n",
    "        train_set = complete_data.loc[train]\n",
    "        test_set = complete_data.loc[test]\n",
    "\n",
    "    if(dataset_type == 'train'):\n",
    "        x_data = train_set.drop('label', axis='columns').sort_index()\n",
    "        y_data = train_set['label'].sort_index()\n",
    "\n",
    "    else:\n",
    "        x_data = test_set.drop('label', axis='columns').sort_index()\n",
    "        y_data = test_set['label'].sort_index()\n",
    "\n",
    "    if(classificator_type == 'binary'):\n",
    "        y_data = (y_data == selected_number)\n",
    "        return (x_data, y_data)\n",
    "\n",
    "    elif(classificator_type == 'multinominal'):\n",
    "        return (x_data, y_data)\n",
    "\n",
    "    elif(classificator_type == 'multilabel'):\n",
    "        y_data_large = (y_data >= 7)\n",
    "        y_data_even = (y_data % 2 == 0)\n",
    "        y_data = np.c_[y_data_large, y_data_even]\n",
    "        return(x_data, y_data)"
   ]
  },
  {
   "cell_type": "code",
   "execution_count": 15,
   "metadata": {},
   "outputs": [],
   "source": [
    "class DataSelector(BaseEstimator, TransformerMixin):\n",
    "    def __init__(self):\n",
    "        pass\n",
    "        \n",
    "    def fit(self, x_data, y_data = None):\n",
    "        return self\n",
    "    \n",
    "    def transform(self, x_data, y_data = None):\n",
    "        return x_data"
   ]
  },
  {
   "cell_type": "code",
   "execution_count": null,
   "metadata": {},
   "outputs": [],
   "source": [
    "data_pipeline = Pipeline([\n",
    "    ('selector', DataSelector),\n",
    "    ('scaler', StandardScaler)\n",
    "]) "
   ]
  }
 ],
 "metadata": {
  "kernelspec": {
   "display_name": "Python 3",
   "language": "python",
   "name": "python3"
  },
  "language_info": {
   "codemirror_mode": {
    "name": "ipython",
    "version": 3
   },
   "file_extension": ".py",
   "mimetype": "text/x-python",
   "name": "python",
   "nbconvert_exporter": "python",
   "pygments_lexer": "ipython3",
   "version": "3.8.5"
  }
 },
 "nbformat": 4,
 "nbformat_minor": 4
}
